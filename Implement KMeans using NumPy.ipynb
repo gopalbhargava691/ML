{
  "nbformat": 4,
  "nbformat_minor": 0,
  "metadata": {
    "kernelspec": {
      "display_name": "Python 3",
      "language": "python",
      "name": "python3"
    },
    "language_info": {
      "codemirror_mode": {
        "name": "ipython",
        "version": 3
      },
      "file_extension": ".py",
      "mimetype": "text/x-python",
      "name": "python",
      "nbconvert_exporter": "python",
      "pygments_lexer": "ipython3",
      "version": "3.7.3"
    },
    "colab": {
      "name": "Implement KMeans using NumPy.ipynb",
      "provenance": []
    }
  },
  "cells": [
    {
      "cell_type": "markdown",
      "metadata": {
        "id": "TwX8Kebmq2jt"
      },
      "source": [
        "### Agenda\n",
        "* Implementing KMeans"
      ]
    },
    {
      "cell_type": "markdown",
      "metadata": {
        "id": "unFlI_8-q2jt"
      },
      "source": [
        "### Steps in KMeans\n",
        "* Randomy assign centroids\n",
        "* Assign data to nearest centroids\n",
        "* Recalculate the centroid\n",
        "* Repeat above two steps"
      ]
    },
    {
      "cell_type": "code",
      "metadata": {
        "id": "RmEB2NMgq2ju"
      },
      "source": [
        "from sklearn.datasets import load_iris"
      ],
      "execution_count": null,
      "outputs": []
    },
    {
      "cell_type": "code",
      "metadata": {
        "id": "Mx0MZ_8lq2ju"
      },
      "source": [
        "iris = load_iris()"
      ],
      "execution_count": null,
      "outputs": []
    },
    {
      "cell_type": "code",
      "metadata": {
        "id": "MMj_hCFSq2ju"
      },
      "source": [
        "feature_data = iris.data"
      ],
      "execution_count": null,
      "outputs": []
    },
    {
      "cell_type": "code",
      "metadata": {
        "id": "1owqGF4pq2ju"
      },
      "source": [
        "feature_data = feature_data[:,[0,1]]"
      ],
      "execution_count": null,
      "outputs": []
    },
    {
      "cell_type": "code",
      "metadata": {
        "colab": {
          "base_uri": "https://localhost:8080/"
        },
        "id": "CwWROBGhq2ju",
        "outputId": "647ac79d-be2c-4b2f-c159-caeb524dd7e5"
      },
      "source": [
        "feature_data.shape"
      ],
      "execution_count": null,
      "outputs": [
        {
          "output_type": "execute_result",
          "data": {
            "text/plain": [
              "(150, 2)"
            ]
          },
          "metadata": {
            "tags": []
          },
          "execution_count": 5
        }
      ]
    },
    {
      "cell_type": "code",
      "metadata": {
        "colab": {
          "base_uri": "https://localhost:8080/"
        },
        "id": "uC5i5UiHq2ju",
        "outputId": "844c6ca5-bd19-4f39-d6b4-843dc595d6c1"
      },
      "source": [
        "iris.target"
      ],
      "execution_count": null,
      "outputs": [
        {
          "output_type": "execute_result",
          "data": {
            "text/plain": [
              "array([0, 0, 0, 0, 0, 0, 0, 0, 0, 0, 0, 0, 0, 0, 0, 0, 0, 0, 0, 0, 0, 0,\n",
              "       0, 0, 0, 0, 0, 0, 0, 0, 0, 0, 0, 0, 0, 0, 0, 0, 0, 0, 0, 0, 0, 0,\n",
              "       0, 0, 0, 0, 0, 0, 1, 1, 1, 1, 1, 1, 1, 1, 1, 1, 1, 1, 1, 1, 1, 1,\n",
              "       1, 1, 1, 1, 1, 1, 1, 1, 1, 1, 1, 1, 1, 1, 1, 1, 1, 1, 1, 1, 1, 1,\n",
              "       1, 1, 1, 1, 1, 1, 1, 1, 1, 1, 1, 1, 2, 2, 2, 2, 2, 2, 2, 2, 2, 2,\n",
              "       2, 2, 2, 2, 2, 2, 2, 2, 2, 2, 2, 2, 2, 2, 2, 2, 2, 2, 2, 2, 2, 2,\n",
              "       2, 2, 2, 2, 2, 2, 2, 2, 2, 2, 2, 2, 2, 2, 2, 2, 2, 2])"
            ]
          },
          "metadata": {
            "tags": []
          },
          "execution_count": 6
        }
      ]
    },
    {
      "cell_type": "markdown",
      "metadata": {
        "id": "Y9CkWB0Bq2jv"
      },
      "source": [
        "### Cluster feature_data into 3 classes"
      ]
    },
    {
      "cell_type": "code",
      "metadata": {
        "id": "9njEZFtSq2jv"
      },
      "source": [
        "import numpy as np\n",
        "import pandas as pd"
      ],
      "execution_count": null,
      "outputs": []
    },
    {
      "cell_type": "code",
      "metadata": {
        "id": "1klSGy1Bq2jv"
      },
      "source": [
        "class MyKMeans:\n",
        "    def __init__(self,n_clusters=3):\n",
        "        self.n_clusters = n_clusters\n",
        "        \n",
        "    def my_fit(self, feature_data, centroids=[[4.8,3.2],[5.5,2.5],[7.5,3]]):\n",
        "        self.feature_data = np.array(feature_data)\n",
        "        self.data_centroid = []\n",
        "        self.centroids = np.array(centroids)\n",
        "            \n",
        "    def assign_data_to_centroid(self):\n",
        "        fd = self.feature_data.reshape(150,1,2)\n",
        "        cd = self.centroids.reshape(1,3,2)\n",
        "        distances = np.sqrt(np.sum(np.square(fd - cd),axis=2))\n",
        "        self.data_centroid = np.argmin(distances,axis=1)\n",
        "        self.distance_centroid = np.min(distances,axis=1)\n",
        "        return self.data_centroid\n",
        "    \n",
        "    def recalculate_centroid(self):\n",
        "        def f(d):\n",
        "            res = np.round([d['F1'].sum()/d.shape[0],d['F2'].sum()/d.shape[0]],3)\n",
        "            self.centroids.append(np.array(res))\n",
        "            \n",
        "        self.centroids = []\n",
        "        df = pd.DataFrame({'Centroid':self.data_centroid,'F1':self.feature_data[:,0],'F2':self.feature_data[:,1]})\n",
        "        df.groupby('Centroid').apply(f)\n",
        "        self.centroids = np.array(self.centroids)  \n",
        "        \n",
        "    def my_cost(self):\n",
        "        return self.distance_centroid.sum()"
      ],
      "execution_count": null,
      "outputs": []
    },
    {
      "cell_type": "code",
      "metadata": {
        "id": "C2qzqOKeq2jv"
      },
      "source": [
        "myKmeans = MyKMeans(n_clusters=3)"
      ],
      "execution_count": null,
      "outputs": []
    },
    {
      "cell_type": "code",
      "metadata": {
        "id": "FgvDvKHMq2jv"
      },
      "source": [
        "myKmeans.my_fit(feature_data)"
      ],
      "execution_count": null,
      "outputs": []
    },
    {
      "cell_type": "code",
      "metadata": {
        "id": "T9AqMQ1dq2jv"
      },
      "source": [
        "import matplotlib.pyplot as plt\n",
        "%matplotlib inline"
      ],
      "execution_count": null,
      "outputs": []
    },
    {
      "cell_type": "code",
      "metadata": {
        "colab": {
          "base_uri": "https://localhost:8080/",
          "height": 285
        },
        "id": "LLh70CZqq2jv",
        "outputId": "4c073584-112f-4707-ab20-deefa244339e"
      },
      "source": [
        "plt.scatter(myKmeans.feature_data[:,0], myKmeans.feature_data[:,1],s=10)\n",
        "plt.scatter(myKmeans.centroids[:1,0], myKmeans.centroids[:1,1], s=50, c='r')\n",
        "plt.scatter(myKmeans.centroids[1:2,0], myKmeans.centroids[1:2,1], s=50, c='k')\n",
        "plt.scatter(myKmeans.centroids[2:3,0], myKmeans.centroids[2:3,1], s=50, c='g')"
      ],
      "execution_count": null,
      "outputs": [
        {
          "output_type": "execute_result",
          "data": {
            "text/plain": [
              "<matplotlib.collections.PathCollection at 0x7fdf9bb22978>"
            ]
          },
          "metadata": {
            "tags": []
          },
          "execution_count": 12
        },
        {
          "output_type": "display_data",
          "data": {
            "image/png": "[encoded data removed]",
            "text/plain": [
              "<Figure size 432x288 with 1 Axes>"
            ]
          },
          "metadata": {
            "tags": [],
            "needs_background": "light"
          }
        }
      ]
    },
    {
      "cell_type": "code",
      "metadata": {
        "id": "9XYFKHw7q2jv"
      },
      "source": [
        "closer_centroid = myKmeans.assign_data_to_centroid()"
      ],
      "execution_count": null,
      "outputs": []
    },
    {
      "cell_type": "code",
      "metadata": {
        "colab": {
          "base_uri": "https://localhost:8080/",
          "height": 463
        },
        "id": "aptMeERnq2jv",
        "outputId": "e39a178e-e585-41d0-c5b5-cf56c4521c23"
      },
      "source": [
        "plt.scatter(feature_data[:,0], feature_data[:,1],s=10,c=closer_centroid)\n",
        "plt.scatter(centroids[:1,0], centroids[:1,1], s=50, c='r')\n",
        "plt.scatter(centroids[1:2,0], centroids[1:2,1], s=50, c='k')\n",
        "plt.scatter(centroids[2:3,0], centroids[2:3,1], s=50, c='g')"
      ],
      "execution_count": null,
      "outputs": [
        {
          "output_type": "error",
          "ename": "NameError",
          "evalue": "ignored",
          "traceback": [
            "\u001b[0;31m---------------------------------------------------------------------------\u001b[0m",
            "\u001b[0;31mNameError\u001b[0m                                 Traceback (most recent call last)",
            "\u001b[0;32m<ipython-input-14-f209b9786c08>\u001b[0m in \u001b[0;36m<module>\u001b[0;34m()\u001b[0m\n\u001b[1;32m      1\u001b[0m \u001b[0mplt\u001b[0m\u001b[0;34m.\u001b[0m\u001b[0mscatter\u001b[0m\u001b[0;34m(\u001b[0m\u001b[0mfeature_data\u001b[0m\u001b[0;34m[\u001b[0m\u001b[0;34m:\u001b[0m\u001b[0;34m,\u001b[0m\u001b[0;36m0\u001b[0m\u001b[0;34m]\u001b[0m\u001b[0;34m,\u001b[0m \u001b[0mfeature_data\u001b[0m\u001b[0;34m[\u001b[0m\u001b[0;34m:\u001b[0m\u001b[0;34m,\u001b[0m\u001b[0;36m1\u001b[0m\u001b[0;34m]\u001b[0m\u001b[0;34m,\u001b[0m\u001b[0ms\u001b[0m\u001b[0;34m=\u001b[0m\u001b[0;36m10\u001b[0m\u001b[0;34m,\u001b[0m\u001b[0mc\u001b[0m\u001b[0;34m=\u001b[0m\u001b[0mcloser_centroid\u001b[0m\u001b[0;34m)\u001b[0m\u001b[0;34m\u001b[0m\u001b[0;34m\u001b[0m\u001b[0m\n\u001b[0;32m----> 2\u001b[0;31m \u001b[0mplt\u001b[0m\u001b[0;34m.\u001b[0m\u001b[0mscatter\u001b[0m\u001b[0;34m(\u001b[0m\u001b[0mcentroids\u001b[0m\u001b[0;34m[\u001b[0m\u001b[0;34m:\u001b[0m\u001b[0;36m1\u001b[0m\u001b[0;34m,\u001b[0m\u001b[0;36m0\u001b[0m\u001b[0;34m]\u001b[0m\u001b[0;34m,\u001b[0m \u001b[0mcentroids\u001b[0m\u001b[0;34m[\u001b[0m\u001b[0;34m:\u001b[0m\u001b[0;36m1\u001b[0m\u001b[0;34m,\u001b[0m\u001b[0;36m1\u001b[0m\u001b[0;34m]\u001b[0m\u001b[0;34m,\u001b[0m \u001b[0ms\u001b[0m\u001b[0;34m=\u001b[0m\u001b[0;36m50\u001b[0m\u001b[0;34m,\u001b[0m \u001b[0mc\u001b[0m\u001b[0;34m=\u001b[0m\u001b[0;34m'r'\u001b[0m\u001b[0;34m)\u001b[0m\u001b[0;34m\u001b[0m\u001b[0;34m\u001b[0m\u001b[0m\n\u001b[0m\u001b[1;32m      3\u001b[0m \u001b[0mplt\u001b[0m\u001b[0;34m.\u001b[0m\u001b[0mscatter\u001b[0m\u001b[0;34m(\u001b[0m\u001b[0mcentroids\u001b[0m\u001b[0;34m[\u001b[0m\u001b[0;36m1\u001b[0m\u001b[0;34m:\u001b[0m\u001b[0;36m2\u001b[0m\u001b[0;34m,\u001b[0m\u001b[0;36m0\u001b[0m\u001b[0;34m]\u001b[0m\u001b[0;34m,\u001b[0m \u001b[0mcentroids\u001b[0m\u001b[0;34m[\u001b[0m\u001b[0;36m1\u001b[0m\u001b[0;34m:\u001b[0m\u001b[0;36m2\u001b[0m\u001b[0;34m,\u001b[0m\u001b[0;36m1\u001b[0m\u001b[0;34m]\u001b[0m\u001b[0;34m,\u001b[0m \u001b[0ms\u001b[0m\u001b[0;34m=\u001b[0m\u001b[0;36m50\u001b[0m\u001b[0;34m,\u001b[0m \u001b[0mc\u001b[0m\u001b[0;34m=\u001b[0m\u001b[0;34m'k'\u001b[0m\u001b[0;34m)\u001b[0m\u001b[0;34m\u001b[0m\u001b[0;34m\u001b[0m\u001b[0m\n\u001b[1;32m      4\u001b[0m \u001b[0mplt\u001b[0m\u001b[0;34m.\u001b[0m\u001b[0mscatter\u001b[0m\u001b[0;34m(\u001b[0m\u001b[0mcentroids\u001b[0m\u001b[0;34m[\u001b[0m\u001b[0;36m2\u001b[0m\u001b[0;34m:\u001b[0m\u001b[0;36m3\u001b[0m\u001b[0;34m,\u001b[0m\u001b[0;36m0\u001b[0m\u001b[0;34m]\u001b[0m\u001b[0;34m,\u001b[0m \u001b[0mcentroids\u001b[0m\u001b[0;34m[\u001b[0m\u001b[0;36m2\u001b[0m\u001b[0;34m:\u001b[0m\u001b[0;36m3\u001b[0m\u001b[0;34m,\u001b[0m\u001b[0;36m1\u001b[0m\u001b[0;34m]\u001b[0m\u001b[0;34m,\u001b[0m \u001b[0ms\u001b[0m\u001b[0;34m=\u001b[0m\u001b[0;36m50\u001b[0m\u001b[0;34m,\u001b[0m \u001b[0mc\u001b[0m\u001b[0;34m=\u001b[0m\u001b[0;34m'g'\u001b[0m\u001b[0;34m)\u001b[0m\u001b[0;34m\u001b[0m\u001b[0;34m\u001b[0m\u001b[0m\n",
            "\u001b[0;31mNameError\u001b[0m: name 'centroids' is not defined"
          ]
        },
        {
          "output_type": "display_data",
          "data": {
            "image/png": "[encoded data removed]",
            "text/plain": [
              "<Figure size 432x288 with 1 Axes>"
            ]
          },
          "metadata": {
            "tags": [],
            "needs_background": "light"
          }
        }
      ]
    },
    {
      "cell_type": "code",
      "metadata": {
        "colab": {
          "base_uri": "https://localhost:8080/"
        },
        "id": "Fucp6tiVq2jw",
        "outputId": "e991ddf2-82c7-4006-cce2-a312013d7d56"
      },
      "source": [
        "myKmeans.my_cost()"
      ],
      "execution_count": null,
      "outputs": [
        {
          "output_type": "execute_result",
          "data": {
            "text/plain": [
              "88.60482492151777"
            ]
          },
          "metadata": {
            "tags": []
          },
          "execution_count": 15
        }
      ]
    },
    {
      "cell_type": "markdown",
      "metadata": {
        "id": "U1mx64Inq2jw"
      },
      "source": [
        "### Understanding Distance Vector Calculation using Broadcasting"
      ]
    },
    {
      "cell_type": "code",
      "metadata": {
        "id": "XiGT4PqHq2jw"
      },
      "source": [
        "data1 = np.array([[1,1],[2,3],[4,5],[6,7]])\n",
        "data2 = np.array([[1,1],[2,2]])"
      ],
      "execution_count": null,
      "outputs": []
    },
    {
      "cell_type": "code",
      "metadata": {
        "colab": {
          "base_uri": "https://localhost:8080/"
        },
        "id": "aOyH5TXFq2jw",
        "outputId": "86e4181d-4061-41f7-91f1-10f73a4178fe"
      },
      "source": [
        "data1.shape"
      ],
      "execution_count": null,
      "outputs": [
        {
          "output_type": "execute_result",
          "data": {
            "text/plain": [
              "(4, 2)"
            ]
          },
          "metadata": {
            "tags": []
          },
          "execution_count": 17
        }
      ]
    },
    {
      "cell_type": "code",
      "metadata": {
        "colab": {
          "base_uri": "https://localhost:8080/"
        },
        "id": "AKWGQhT5q2jw",
        "outputId": "07dcf108-b102-4ee6-83c0-0f0210940302"
      },
      "source": [
        "data2.shape"
      ],
      "execution_count": null,
      "outputs": [
        {
          "output_type": "execute_result",
          "data": {
            "text/plain": [
              "(2, 2)"
            ]
          },
          "metadata": {
            "tags": []
          },
          "execution_count": 18
        }
      ]
    },
    {
      "cell_type": "code",
      "metadata": {
        "id": "_NSeuQvBq2jw"
      },
      "source": [
        "res = data1.reshape(4,1,2) - data2.reshape(1,2,2)"
      ],
      "execution_count": null,
      "outputs": []
    },
    {
      "cell_type": "code",
      "metadata": {
        "colab": {
          "base_uri": "https://localhost:8080/"
        },
        "id": "WYzxRPxuq2jw",
        "outputId": "8769cbd2-0d33-4ddf-9ca5-fe6249e613ed"
      },
      "source": [
        "res.shape"
      ],
      "execution_count": null,
      "outputs": [
        {
          "output_type": "execute_result",
          "data": {
            "text/plain": [
              "(4, 2, 2)"
            ]
          },
          "metadata": {
            "tags": []
          },
          "execution_count": 20
        }
      ]
    },
    {
      "cell_type": "code",
      "metadata": {
        "id": "c8ZffRynq2jx"
      },
      "source": [
        "res2 = np.square(res)"
      ],
      "execution_count": null,
      "outputs": []
    },
    {
      "cell_type": "code",
      "metadata": {
        "colab": {
          "base_uri": "https://localhost:8080/"
        },
        "id": "D3ECnqawq2jx",
        "outputId": "91587c46-c4a9-4f34-99b8-7a07a85a1c87"
      },
      "source": [
        "np.argmin(np.sum(res2,axis=2),axis=1)"
      ],
      "execution_count": null,
      "outputs": [
        {
          "output_type": "execute_result",
          "data": {
            "text/plain": [
              "array([0, 1, 1, 1])"
            ]
          },
          "metadata": {
            "tags": []
          },
          "execution_count": 22
        }
      ]
    },
    {
      "cell_type": "markdown",
      "metadata": {
        "id": "A4GzcAK1q2jx"
      },
      "source": [
        "<hr>"
      ]
    },
    {
      "cell_type": "markdown",
      "metadata": {
        "id": "xpERPvMqq2jx"
      },
      "source": [
        "* Current centroid"
      ]
    },
    {
      "cell_type": "code",
      "metadata": {
        "colab": {
          "base_uri": "https://localhost:8080/"
        },
        "id": "Hc4asftsq2jx",
        "outputId": "216fcb29-f4ff-4f35-8954-96dc4cdeaf4f"
      },
      "source": [
        "myKmeans.centroids"
      ],
      "execution_count": null,
      "outputs": [
        {
          "output_type": "execute_result",
          "data": {
            "text/plain": [
              "array([[4.8, 3.2],\n",
              "       [5.5, 2.5],\n",
              "       [7.5, 3. ]])"
            ]
          },
          "metadata": {
            "tags": []
          },
          "execution_count": 23
        }
      ]
    },
    {
      "cell_type": "markdown",
      "metadata": {
        "id": "rg63bNLNq2jx"
      },
      "source": [
        "* Default centroids"
      ]
    },
    {
      "cell_type": "code",
      "metadata": {
        "id": "RPBU59T0q2jx"
      },
      "source": [
        "myKmeans.recalculate_centroid()"
      ],
      "execution_count": null,
      "outputs": []
    },
    {
      "cell_type": "code",
      "metadata": {
        "colab": {
          "base_uri": "https://localhost:8080/"
        },
        "id": "zUhh2yurq2jx",
        "outputId": "4071c26d-08cf-4978-fc28-a50c52ae28ea"
      },
      "source": [
        "myKmeans.centroids"
      ],
      "execution_count": null,
      "outputs": [
        {
          "output_type": "execute_result",
          "data": {
            "text/plain": [
              "array([[5.006, 3.428],\n",
              "       [5.863, 2.751],\n",
              "       [6.941, 3.078]])"
            ]
          },
          "metadata": {
            "tags": []
          },
          "execution_count": 25
        }
      ]
    },
    {
      "cell_type": "code",
      "metadata": {
        "id": "VonL9G3Lq2jy"
      },
      "source": [
        "closer_centroid = myKmeans.assign_data_to_centroid()"
      ],
      "execution_count": null,
      "outputs": []
    },
    {
      "cell_type": "code",
      "metadata": {
        "colab": {
          "base_uri": "https://localhost:8080/",
          "height": 285
        },
        "id": "YojSDvBoq2jy",
        "outputId": "c1db1fc7-46f0-40fb-9241-a67c5cd6b976"
      },
      "source": [
        "plt.scatter(myKmeans.feature_data[:,0], myKmeans.feature_data[:,1],s=10,c=closer_centroid)\n",
        "plt.scatter(myKmeans.centroids[:1,0], myKmeans.centroids[:1,1], s=50, c='r')\n",
        "plt.scatter(myKmeans.centroids[1:2,0], myKmeans.centroids[1:2,1], s=50, c='k')\n",
        "plt.scatter(myKmeans.centroids[2:3,0], myKmeans.centroids[2:3,1], s=50, c='g')"
      ],
      "execution_count": null,
      "outputs": [
        {
          "output_type": "execute_result",
          "data": {
            "text/plain": [
              "<matplotlib.collections.PathCollection at 0x7fdf9b521f60>"
            ]
          },
          "metadata": {
            "tags": []
          },
          "execution_count": 27
        },
        {
          "output_type": "display_data",
          "data": {
            "image/png": "[encoded data removed]",
            "text/plain": [
              "<Figure size 432x288 with 1 Axes>"
            ]
          },
          "metadata": {
            "tags": [],
            "needs_background": "light"
          }
        }
      ]
    },
    {
      "cell_type": "code",
      "metadata": {
        "colab": {
          "base_uri": "https://localhost:8080/"
        },
        "id": "FpfGAuufq2jy",
        "outputId": "d7049edc-1aa0-4315-f161-d15bca634cc6"
      },
      "source": [
        "myKmeans.my_cost()"
      ],
      "execution_count": null,
      "outputs": [
        {
          "output_type": "execute_result",
          "data": {
            "text/plain": [
              "64.12423865823158"
            ]
          },
          "metadata": {
            "tags": []
          },
          "execution_count": 28
        }
      ]
    },
    {
      "cell_type": "markdown",
      "metadata": {
        "id": "u-6xUhXnq2jy"
      },
      "source": [
        "* Repeat"
      ]
    },
    {
      "cell_type": "code",
      "metadata": {
        "id": "lms3J8PXq2jy"
      },
      "source": [
        "myKmeans.recalculate_centroid()"
      ],
      "execution_count": null,
      "outputs": []
    },
    {
      "cell_type": "code",
      "metadata": {
        "colab": {
          "base_uri": "https://localhost:8080/"
        },
        "id": "5E72K8s6q2jy",
        "outputId": "80f63533-2890-41a6-e9bb-e8bc0a593d04"
      },
      "source": [
        "myKmeans.centroids"
      ],
      "execution_count": null,
      "outputs": [
        {
          "output_type": "execute_result",
          "data": {
            "text/plain": [
              "array([[5.004, 3.41 ],\n",
              "       [5.848, 2.719],\n",
              "       [6.88 , 3.098]])"
            ]
          },
          "metadata": {
            "tags": []
          },
          "execution_count": 30
        }
      ]
    },
    {
      "cell_type": "code",
      "metadata": {
        "id": "t2eS-hHHq2jy"
      },
      "source": [
        "closer_centroid = myKmeans.assign_data_to_centroid()"
      ],
      "execution_count": null,
      "outputs": []
    },
    {
      "cell_type": "code",
      "metadata": {
        "colab": {
          "base_uri": "https://localhost:8080/",
          "height": 285
        },
        "id": "wlMhhDexq2jy",
        "outputId": "fae41754-9e14-4dea-fece-e817cb91fff1"
      },
      "source": [
        "plt.scatter(myKmeans.feature_data[:,0], myKmeans.feature_data[:,1],s=10,c=closer_centroid)\n",
        "plt.scatter(myKmeans.centroids[:1,0], myKmeans.centroids[:1,1], s=50, c='r')\n",
        "plt.scatter(myKmeans.centroids[1:2,0], myKmeans.centroids[1:2,1], s=50, c='k')\n",
        "plt.scatter(myKmeans.centroids[2:3,0], myKmeans.centroids[2:3,1], s=50, c='g')"
      ],
      "execution_count": null,
      "outputs": [
        {
          "output_type": "execute_result",
          "data": {
            "text/plain": [
              "<matplotlib.collections.PathCollection at 0x7fdf9b495a58>"
            ]
          },
          "metadata": {
            "tags": []
          },
          "execution_count": 32
        },
        {
          "output_type": "display_data",
          "data": {
            "image/png": "[encoded data removed]",
            "text/plain": [
              "<Figure size 432x288 with 1 Axes>"
            ]
          },
          "metadata": {
            "tags": [],
            "needs_background": "light"
          }
        }
      ]
    },
    {
      "cell_type": "code",
      "metadata": {
        "colab": {
          "base_uri": "https://localhost:8080/"
        },
        "id": "UF_hQ-2Rq2jz",
        "outputId": "f7d8633e-c1bc-43d2-dc1e-af884e723298"
      },
      "source": [
        "myKmeans.my_cost()"
      ],
      "execution_count": null,
      "outputs": [
        {
          "output_type": "execute_result",
          "data": {
            "text/plain": [
              "63.327626747474284"
            ]
          },
          "metadata": {
            "tags": []
          },
          "execution_count": 33
        }
      ]
    },
    {
      "cell_type": "markdown",
      "metadata": {
        "id": "XYCssshXq2jz"
      },
      "source": [
        "* Repeat"
      ]
    },
    {
      "cell_type": "code",
      "metadata": {
        "id": "q8lTbIviq2jz"
      },
      "source": [
        "myKmeans.recalculate_centroid()"
      ],
      "execution_count": null,
      "outputs": []
    },
    {
      "cell_type": "code",
      "metadata": {
        "colab": {
          "base_uri": "https://localhost:8080/"
        },
        "id": "1sCv1DCaq2jz",
        "outputId": "a103c432-9c32-4ae1-eb4f-d8d7bbe72c59"
      },
      "source": [
        "myKmeans.centroids"
      ],
      "execution_count": null,
      "outputs": [
        {
          "output_type": "execute_result",
          "data": {
            "text/plain": [
              "array([[5.004, 3.41 ],\n",
              "       [5.832, 2.704],\n",
              "       [6.853, 3.1  ]])"
            ]
          },
          "metadata": {
            "tags": []
          },
          "execution_count": 35
        }
      ]
    },
    {
      "cell_type": "code",
      "metadata": {
        "id": "aHl8q_jjq2jz"
      },
      "source": [
        ""
      ],
      "execution_count": null,
      "outputs": []
    }
  ]
}