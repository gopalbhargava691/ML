{
  "nbformat": 4,
  "nbformat_minor": 0,
  "metadata": {
    "kernelspec": {
      "display_name": "Python 3",
      "language": "python",
      "name": "python3"
    },
    "language_info": {
      "codemirror_mode": {
        "name": "ipython",
        "version": 3
      },
      "file_extension": ".py",
      "mimetype": "text/x-python",
      "name": "python",
      "nbconvert_exporter": "python",
      "pygments_lexer": "ipython3",
      "version": "3.7.2"
    },
    "colab": {
      "name": "Untitled.ipynb",
      "provenance": []
    }
  },
  "cells": [
    {
      "cell_type": "code",
      "metadata": {
        "id": "aLGDa332qktT"
      },
      "source": [
        "import pandas as pd\n",
        "import numpy as np\n",
        "from scipy import stats\n",
        "\n",
        "\n",
        "import matplotlib\n",
        "import matplotlib.pyplot as plt\n",
        "import seaborn as sns\n",
        "\n",
        "%matplotlib inline"
      ],
      "execution_count": null,
      "outputs": []
    },
    {
      "cell_type": "code",
      "metadata": {
        "id": "mFNs0MzIqktT",
        "outputId": "113e0683-aaa1-423c-b542-eebc17cf0b11"
      },
      "source": [
        "data = {'Student name':['Ram','Ganesh','Anand','Mukesh','Shankar','Chinmay','Aman'],\n",
        "       'GMAT Score':[750,720,710,690,670,650,600],\n",
        "       'Work Exp':[0,1,2,0,4,6,1],\n",
        "       'International Awards':[4,2,0,1,2,2,0],\n",
        "       'Admission':[\"Yes\",\"Yes\",\"No\",\"No\",\"Yes\",\"Yes\",\"No\"]}\n",
        "\n",
        "\n",
        "df = pd.DataFrame(data,index=None)\n",
        "df = df.set_index(\"Student name\")\n",
        "df"
      ],
      "execution_count": null,
      "outputs": [
        {
          "output_type": "execute_result",
          "data": {
            "text/html": [
              "<div>\n",
              "<style scoped>\n",
              "    .dataframe tbody tr th:only-of-type {\n",
              "        vertical-align: middle;\n",
              "    }\n",
              "\n",
              "    .dataframe tbody tr th {\n",
              "        vertical-align: top;\n",
              "    }\n",
              "\n",
              "    .dataframe thead th {\n",
              "        text-align: right;\n",
              "    }\n",
              "</style>\n",
              "<table border=\"1\" class=\"dataframe\">\n",
              "  <thead>\n",
              "    <tr style=\"text-align: right;\">\n",
              "      <th></th>\n",
              "      <th>GMAT Score</th>\n",
              "      <th>Work Exp</th>\n",
              "      <th>International Awards</th>\n",
              "      <th>Admission</th>\n",
              "    </tr>\n",
              "    <tr>\n",
              "      <th>Student name</th>\n",
              "      <th></th>\n",
              "      <th></th>\n",
              "      <th></th>\n",
              "      <th></th>\n",
              "    </tr>\n",
              "  </thead>\n",
              "  <tbody>\n",
              "    <tr>\n",
              "      <th>Ram</th>\n",
              "      <td>750</td>\n",
              "      <td>0</td>\n",
              "      <td>4</td>\n",
              "      <td>Yes</td>\n",
              "    </tr>\n",
              "    <tr>\n",
              "      <th>Ganesh</th>\n",
              "      <td>720</td>\n",
              "      <td>1</td>\n",
              "      <td>2</td>\n",
              "      <td>Yes</td>\n",
              "    </tr>\n",
              "    <tr>\n",
              "      <th>Anand</th>\n",
              "      <td>710</td>\n",
              "      <td>2</td>\n",
              "      <td>0</td>\n",
              "      <td>No</td>\n",
              "    </tr>\n",
              "    <tr>\n",
              "      <th>Mukesh</th>\n",
              "      <td>690</td>\n",
              "      <td>0</td>\n",
              "      <td>1</td>\n",
              "      <td>No</td>\n",
              "    </tr>\n",
              "    <tr>\n",
              "      <th>Shankar</th>\n",
              "      <td>670</td>\n",
              "      <td>4</td>\n",
              "      <td>2</td>\n",
              "      <td>Yes</td>\n",
              "    </tr>\n",
              "    <tr>\n",
              "      <th>Chinmay</th>\n",
              "      <td>650</td>\n",
              "      <td>6</td>\n",
              "      <td>2</td>\n",
              "      <td>Yes</td>\n",
              "    </tr>\n",
              "    <tr>\n",
              "      <th>Aman</th>\n",
              "      <td>600</td>\n",
              "      <td>1</td>\n",
              "      <td>0</td>\n",
              "      <td>No</td>\n",
              "    </tr>\n",
              "  </tbody>\n",
              "</table>\n",
              "</div>"
            ],
            "text/plain": [
              "              GMAT Score  Work Exp  International Awards Admission\n",
              "Student name                                                      \n",
              "Ram                  750         0                     4       Yes\n",
              "Ganesh               720         1                     2       Yes\n",
              "Anand                710         2                     0        No\n",
              "Mukesh               690         0                     1        No\n",
              "Shankar              670         4                     2       Yes\n",
              "Chinmay              650         6                     2       Yes\n",
              "Aman                 600         1                     0        No"
            ]
          },
          "metadata": {
            "tags": []
          },
          "execution_count": 21
        }
      ]
    },
    {
      "cell_type": "code",
      "metadata": {
        "id": "DeuiPEbuqktV",
        "outputId": "729a799d-befb-484d-f5b7-b5d61a5eee1e"
      },
      "source": [
        "sns.jointplot(x=\"GMAT Score\", y=\"Work Exp\", data=df, hue=\"Admission\")"
      ],
      "execution_count": null,
      "outputs": [
        {
          "output_type": "execute_result",
          "data": {
            "text/plain": [
              "<seaborn.axisgrid.JointGrid at 0xf8f44b0>"
            ]
          },
          "metadata": {
            "tags": []
          },
          "execution_count": 10
        },
        {
          "output_type": "display_data",
          "data": {
            "image/png": "[encoded data removed]",
            "text/plain": [
              "<Figure size 432x432 with 3 Axes>"
            ]
          },
          "metadata": {
            "tags": [],
            "needs_background": "light"
          }
        }
      ]
    },
    {
      "cell_type": "code",
      "metadata": {
        "id": "GyKkPaP5qktV",
        "outputId": "b44be8cd-7122-4bd8-f531-d8b57e4a3463"
      },
      "source": [
        "data = {'Student name':['Amit'],\n",
        "        \"GMAT Score\":[700],\n",
        "        'Work Exp':[1],\n",
        "        'International Awards':[2]}\n",
        "query_data = pd.DataFrame(data)\n",
        "query_data = query_data.set_index(\"Student name\")\n",
        "query_data"
      ],
      "execution_count": null,
      "outputs": [
        {
          "output_type": "execute_result",
          "data": {
            "text/html": [
              "<div>\n",
              "<style scoped>\n",
              "    .dataframe tbody tr th:only-of-type {\n",
              "        vertical-align: middle;\n",
              "    }\n",
              "\n",
              "    .dataframe tbody tr th {\n",
              "        vertical-align: top;\n",
              "    }\n",
              "\n",
              "    .dataframe thead th {\n",
              "        text-align: right;\n",
              "    }\n",
              "</style>\n",
              "<table border=\"1\" class=\"dataframe\">\n",
              "  <thead>\n",
              "    <tr style=\"text-align: right;\">\n",
              "      <th></th>\n",
              "      <th>GMAT Score</th>\n",
              "      <th>Work Exp</th>\n",
              "      <th>International Awards</th>\n",
              "    </tr>\n",
              "    <tr>\n",
              "      <th>Student name</th>\n",
              "      <th></th>\n",
              "      <th></th>\n",
              "      <th></th>\n",
              "    </tr>\n",
              "  </thead>\n",
              "  <tbody>\n",
              "    <tr>\n",
              "      <th>Amit</th>\n",
              "      <td>700</td>\n",
              "      <td>1</td>\n",
              "      <td>2</td>\n",
              "    </tr>\n",
              "  </tbody>\n",
              "</table>\n",
              "</div>"
            ],
            "text/plain": [
              "              GMAT Score  Work Exp  International Awards\n",
              "Student name                                            \n",
              "Amit                 700         1                     2"
            ]
          },
          "metadata": {
            "tags": []
          },
          "execution_count": 20
        }
      ]
    },
    {
      "cell_type": "markdown",
      "metadata": {
        "id": "NuCbxICyqktV"
      },
      "source": [
        "## Converting data into numpy array"
      ]
    },
    {
      "cell_type": "code",
      "metadata": {
        "id": "023f1GI3qktV",
        "outputId": "0c4dbabc-854e-4eab-dad7-6c36025437d5"
      },
      "source": [
        "query_data_numpy = np.array(query_data)\n",
        "query_data_numpy"
      ],
      "execution_count": null,
      "outputs": [
        {
          "output_type": "execute_result",
          "data": {
            "text/plain": [
              "array([[700,   1,   2]], dtype=int64)"
            ]
          },
          "metadata": {
            "tags": []
          },
          "execution_count": 23
        }
      ]
    },
    {
      "cell_type": "code",
      "metadata": {
        "id": "ixRQHvIcqktV",
        "outputId": "b71d4111-3f1a-4a08-d43a-5a3b0c8bc748"
      },
      "source": [
        "training_data_input = np.array(df.iloc[: , :-1])\n",
        "training_data_input"
      ],
      "execution_count": null,
      "outputs": [
        {
          "output_type": "execute_result",
          "data": {
            "text/plain": [
              "array([[750,   0,   4],\n",
              "       [720,   1,   2],\n",
              "       [710,   2,   0],\n",
              "       [690,   0,   1],\n",
              "       [670,   4,   2],\n",
              "       [650,   6,   2],\n",
              "       [600,   1,   0]], dtype=int64)"
            ]
          },
          "metadata": {
            "tags": []
          },
          "execution_count": 25
        }
      ]
    },
    {
      "cell_type": "code",
      "metadata": {
        "id": "zHzkaVWfqktV",
        "outputId": "a047d45d-7b95-4e9b-c647-e8a03da3f065"
      },
      "source": [
        "training_data_output = np.array(df.iloc[: , -1:])\n",
        "training_data_output"
      ],
      "execution_count": null,
      "outputs": [
        {
          "output_type": "execute_result",
          "data": {
            "text/plain": [
              "array([['Yes'],\n",
              "       ['Yes'],\n",
              "       ['No'],\n",
              "       ['No'],\n",
              "       ['Yes'],\n",
              "       ['Yes'],\n",
              "       ['No']], dtype=object)"
            ]
          },
          "metadata": {
            "tags": []
          },
          "execution_count": 26
        }
      ]
    },
    {
      "cell_type": "code",
      "metadata": {
        "id": "hsAzpyqyqktV"
      },
      "source": [
        "distances = np.sqrt(np.sum(np.square(query_data_numpy - training_data_input), axis=1))"
      ],
      "execution_count": null,
      "outputs": []
    },
    {
      "cell_type": "code",
      "metadata": {
        "id": "aTDKwAbYqktW",
        "outputId": "5764fa81-6919-4a66-ba1f-f9f575846de8"
      },
      "source": [
        "distances"
      ],
      "execution_count": null,
      "outputs": [
        {
          "output_type": "execute_result",
          "data": {
            "text/plain": [
              "array([ 50.04997502,  20.        ,  10.24695077,  10.09950494,\n",
              "        30.14962686,  50.24937811, 100.019998  ])"
            ]
          },
          "metadata": {
            "tags": []
          },
          "execution_count": 29
        }
      ]
    },
    {
      "cell_type": "code",
      "metadata": {
        "id": "TRpJg2hdqktW",
        "outputId": "03ba5960-2bf0-48ef-b0c5-9ceb99d87cb4"
      },
      "source": [
        "sort_index = np.argsort(distances)\n",
        "sort_index"
      ],
      "execution_count": null,
      "outputs": [
        {
          "output_type": "execute_result",
          "data": {
            "text/plain": [
              "array([3, 2, 1, 4, 0, 5, 6], dtype=int32)"
            ]
          },
          "metadata": {
            "tags": []
          },
          "execution_count": 31
        }
      ]
    },
    {
      "cell_type": "markdown",
      "metadata": {
        "id": "64_nGkIlqktW"
      },
      "source": [
        "# Q1:What is the distance between Amit and Ram"
      ]
    },
    {
      "cell_type": "markdown",
      "metadata": {
        "id": "iirsOSTdqktW"
      },
      "source": [
        "## As Ram is at the 0th index which means the distance between Amit and Ram is : 50.04997502"
      ]
    },
    {
      "cell_type": "markdown",
      "metadata": {
        "id": "vgYU312-qktW"
      },
      "source": [
        "# Q2:Who are the top 3 neighbors to querypoint Amit?"
      ]
    },
    {
      "cell_type": "code",
      "metadata": {
        "id": "b8R39rXtqktW",
        "outputId": "02f0b08b-271c-4641-8126-93e5d39bd8d5"
      },
      "source": [
        "top_three = sort_index[:3]\n",
        "top_three"
      ],
      "execution_count": null,
      "outputs": [
        {
          "output_type": "execute_result",
          "data": {
            "text/plain": [
              "array([3, 2, 1], dtype=int32)"
            ]
          },
          "metadata": {
            "tags": []
          },
          "execution_count": 32
        }
      ]
    },
    {
      "cell_type": "markdown",
      "metadata": {
        "id": "j-p6DgGVqktW"
      },
      "source": [
        "## As we can see data at index 3, 2 and 1 are the top 3 closest data points to Amit.\n",
        "## 3 is Mukesh\n",
        "## 2 is Anand\n",
        "## 1 is Ganesh"
      ]
    },
    {
      "cell_type": "markdown",
      "metadata": {
        "id": "66GncWPkqktW"
      },
      "source": [
        "# Q3:If k=5, will Amit can get admission?"
      ]
    },
    {
      "cell_type": "code",
      "metadata": {
        "id": "G8-VY7r6qktW",
        "outputId": "9ea19451-ebbc-431d-ffe5-cdb15d942ab1"
      },
      "source": [
        "top_five = sort_index[:5]\n",
        "nn_classes = training_data_output[top_five]\n",
        "pred = stats.mode(nn_classes)[0][0][0]\n",
        "pred"
      ],
      "execution_count": null,
      "outputs": [
        {
          "output_type": "execute_result",
          "data": {
            "text/plain": [
              "'Yes'"
            ]
          },
          "metadata": {
            "tags": []
          },
          "execution_count": 33
        }
      ]
    },
    {
      "cell_type": "code",
      "metadata": {
        "id": "Q4olWM4TqktW"
      },
      "source": [
        ""
      ],
      "execution_count": null,
      "outputs": []
    }
  ]
}