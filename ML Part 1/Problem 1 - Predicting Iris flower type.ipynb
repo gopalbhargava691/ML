{
  "nbformat": 4,
  "nbformat_minor": 0,
  "metadata": {
    "colab": {
      "name": "Predicting Iris flower Type.ipynb",
      "provenance": [],
      "collapsed_sections": []
    },
    "kernelspec": {
      "name": "python3",
      "display_name": "Python 3"
    }
  },
  "cells": [
    {
      "cell_type": "markdown",
      "metadata": {
        "id": "cTyncfjk-3SA"
      },
      "source": [
        "# **Import necessary libraries**"
      ]
    },
    {
      "cell_type": "code",
      "metadata": {
        "id": "1t2zg6vX7E16"
      },
      "source": [
        "import pandas as pd\n",
        "import numpy as np\n",
        "from sklearn.neighbors import KNeighborsClassifier\n",
        "from sklearn.model_selection import train_test_split\n",
        "from sklearn.metrics import accuracy_score"
      ],
      "execution_count": null,
      "outputs": []
    },
    {
      "cell_type": "code",
      "metadata": {
        "id": "98KQV96o76mC"
      },
      "source": [
        "names = ['sepal-length', 'sepal-width', 'petal-length', 'petal-width', 'class']\n",
        "dataset = pd.read_csv('iris.csv', names=names)"
      ],
      "execution_count": null,
      "outputs": []
    },
    {
      "cell_type": "markdown",
      "metadata": {
        "id": "FD6o8Plo8oC1"
      },
      "source": [
        "## ***Understand the data***"
      ]
    },
    {
      "cell_type": "code",
      "metadata": {
        "colab": {
          "base_uri": "https://localhost:8080/",
          "height": 402
        },
        "id": "DO3K0w7X8Gv5",
        "outputId": "f9374148-be54-4430-b25d-773e2baa0421"
      },
      "source": [
        "dataset"
      ],
      "execution_count": null,
      "outputs": [
        {
          "output_type": "execute_result",
          "data": {
            "text/html": [
              "<div>\n",
              "<style scoped>\n",
              "    .dataframe tbody tr th:only-of-type {\n",
              "        vertical-align: middle;\n",
              "    }\n",
              "\n",
              "    .dataframe tbody tr th {\n",
              "        vertical-align: top;\n",
              "    }\n",
              "\n",
              "    .dataframe thead th {\n",
              "        text-align: right;\n",
              "    }\n",
              "</style>\n",
              "<table border=\"1\" class=\"dataframe\">\n",
              "  <thead>\n",
              "    <tr style=\"text-align: right;\">\n",
              "      <th></th>\n",
              "      <th>sepal-length</th>\n",
              "      <th>sepal-width</th>\n",
              "      <th>petal-length</th>\n",
              "      <th>petal-width</th>\n",
              "      <th>class</th>\n",
              "    </tr>\n",
              "  </thead>\n",
              "  <tbody>\n",
              "    <tr>\n",
              "      <th>0</th>\n",
              "      <td>5.1</td>\n",
              "      <td>3.5</td>\n",
              "      <td>1.4</td>\n",
              "      <td>0.2</td>\n",
              "      <td>Iris-setosa</td>\n",
              "    </tr>\n",
              "    <tr>\n",
              "      <th>1</th>\n",
              "      <td>4.9</td>\n",
              "      <td>3.0</td>\n",
              "      <td>1.4</td>\n",
              "      <td>0.2</td>\n",
              "      <td>Iris-setosa</td>\n",
              "    </tr>\n",
              "    <tr>\n",
              "      <th>2</th>\n",
              "      <td>4.7</td>\n",
              "      <td>3.2</td>\n",
              "      <td>1.3</td>\n",
              "      <td>0.2</td>\n",
              "      <td>Iris-setosa</td>\n",
              "    </tr>\n",
              "    <tr>\n",
              "      <th>3</th>\n",
              "      <td>4.6</td>\n",
              "      <td>3.1</td>\n",
              "      <td>1.5</td>\n",
              "      <td>0.2</td>\n",
              "      <td>Iris-setosa</td>\n",
              "    </tr>\n",
              "    <tr>\n",
              "      <th>4</th>\n",
              "      <td>5.0</td>\n",
              "      <td>3.6</td>\n",
              "      <td>1.4</td>\n",
              "      <td>0.2</td>\n",
              "      <td>Iris-setosa</td>\n",
              "    </tr>\n",
              "    <tr>\n",
              "      <th>...</th>\n",
              "      <td>...</td>\n",
              "      <td>...</td>\n",
              "      <td>...</td>\n",
              "      <td>...</td>\n",
              "      <td>...</td>\n",
              "    </tr>\n",
              "    <tr>\n",
              "      <th>145</th>\n",
              "      <td>6.7</td>\n",
              "      <td>3.0</td>\n",
              "      <td>5.2</td>\n",
              "      <td>2.3</td>\n",
              "      <td>Iris-virginica</td>\n",
              "    </tr>\n",
              "    <tr>\n",
              "      <th>146</th>\n",
              "      <td>6.3</td>\n",
              "      <td>2.5</td>\n",
              "      <td>5.0</td>\n",
              "      <td>1.9</td>\n",
              "      <td>Iris-virginica</td>\n",
              "    </tr>\n",
              "    <tr>\n",
              "      <th>147</th>\n",
              "      <td>6.5</td>\n",
              "      <td>3.0</td>\n",
              "      <td>5.2</td>\n",
              "      <td>2.0</td>\n",
              "      <td>Iris-virginica</td>\n",
              "    </tr>\n",
              "    <tr>\n",
              "      <th>148</th>\n",
              "      <td>6.2</td>\n",
              "      <td>3.4</td>\n",
              "      <td>5.4</td>\n",
              "      <td>2.3</td>\n",
              "      <td>Iris-virginica</td>\n",
              "    </tr>\n",
              "    <tr>\n",
              "      <th>149</th>\n",
              "      <td>5.9</td>\n",
              "      <td>3.0</td>\n",
              "      <td>5.1</td>\n",
              "      <td>1.8</td>\n",
              "      <td>Iris-virginica</td>\n",
              "    </tr>\n",
              "  </tbody>\n",
              "</table>\n",
              "<p>150 rows × 5 columns</p>\n",
              "</div>"
            ],
            "text/plain": [
              "     sepal-length  sepal-width  petal-length  petal-width           class\n",
              "0             5.1          3.5           1.4          0.2     Iris-setosa\n",
              "1             4.9          3.0           1.4          0.2     Iris-setosa\n",
              "2             4.7          3.2           1.3          0.2     Iris-setosa\n",
              "3             4.6          3.1           1.5          0.2     Iris-setosa\n",
              "4             5.0          3.6           1.4          0.2     Iris-setosa\n",
              "..            ...          ...           ...          ...             ...\n",
              "145           6.7          3.0           5.2          2.3  Iris-virginica\n",
              "146           6.3          2.5           5.0          1.9  Iris-virginica\n",
              "147           6.5          3.0           5.2          2.0  Iris-virginica\n",
              "148           6.2          3.4           5.4          2.3  Iris-virginica\n",
              "149           5.9          3.0           5.1          1.8  Iris-virginica\n",
              "\n",
              "[150 rows x 5 columns]"
            ]
          },
          "metadata": {
            "tags": []
          },
          "execution_count": 3
        }
      ]
    },
    {
      "cell_type": "code",
      "metadata": {
        "colab": {
          "base_uri": "https://localhost:8080/",
          "height": 284
        },
        "id": "HdDLP1Db8IQJ",
        "outputId": "94ee34c7-c9e9-4f7b-93a8-31e608223d76"
      },
      "source": [
        "dataset.describe()"
      ],
      "execution_count": null,
      "outputs": [
        {
          "output_type": "execute_result",
          "data": {
            "text/html": [
              "<div>\n",
              "<style scoped>\n",
              "    .dataframe tbody tr th:only-of-type {\n",
              "        vertical-align: middle;\n",
              "    }\n",
              "\n",
              "    .dataframe tbody tr th {\n",
              "        vertical-align: top;\n",
              "    }\n",
              "\n",
              "    .dataframe thead th {\n",
              "        text-align: right;\n",
              "    }\n",
              "</style>\n",
              "<table border=\"1\" class=\"dataframe\">\n",
              "  <thead>\n",
              "    <tr style=\"text-align: right;\">\n",
              "      <th></th>\n",
              "      <th>sepal-length</th>\n",
              "      <th>sepal-width</th>\n",
              "      <th>petal-length</th>\n",
              "      <th>petal-width</th>\n",
              "    </tr>\n",
              "  </thead>\n",
              "  <tbody>\n",
              "    <tr>\n",
              "      <th>count</th>\n",
              "      <td>150.000000</td>\n",
              "      <td>150.000000</td>\n",
              "      <td>150.000000</td>\n",
              "      <td>150.000000</td>\n",
              "    </tr>\n",
              "    <tr>\n",
              "      <th>mean</th>\n",
              "      <td>5.843333</td>\n",
              "      <td>3.054000</td>\n",
              "      <td>3.758667</td>\n",
              "      <td>1.198667</td>\n",
              "    </tr>\n",
              "    <tr>\n",
              "      <th>std</th>\n",
              "      <td>0.828066</td>\n",
              "      <td>0.433594</td>\n",
              "      <td>1.764420</td>\n",
              "      <td>0.763161</td>\n",
              "    </tr>\n",
              "    <tr>\n",
              "      <th>min</th>\n",
              "      <td>4.300000</td>\n",
              "      <td>2.000000</td>\n",
              "      <td>1.000000</td>\n",
              "      <td>0.100000</td>\n",
              "    </tr>\n",
              "    <tr>\n",
              "      <th>25%</th>\n",
              "      <td>5.100000</td>\n",
              "      <td>2.800000</td>\n",
              "      <td>1.600000</td>\n",
              "      <td>0.300000</td>\n",
              "    </tr>\n",
              "    <tr>\n",
              "      <th>50%</th>\n",
              "      <td>5.800000</td>\n",
              "      <td>3.000000</td>\n",
              "      <td>4.350000</td>\n",
              "      <td>1.300000</td>\n",
              "    </tr>\n",
              "    <tr>\n",
              "      <th>75%</th>\n",
              "      <td>6.400000</td>\n",
              "      <td>3.300000</td>\n",
              "      <td>5.100000</td>\n",
              "      <td>1.800000</td>\n",
              "    </tr>\n",
              "    <tr>\n",
              "      <th>max</th>\n",
              "      <td>7.900000</td>\n",
              "      <td>4.400000</td>\n",
              "      <td>6.900000</td>\n",
              "      <td>2.500000</td>\n",
              "    </tr>\n",
              "  </tbody>\n",
              "</table>\n",
              "</div>"
            ],
            "text/plain": [
              "       sepal-length  sepal-width  petal-length  petal-width\n",
              "count    150.000000   150.000000    150.000000   150.000000\n",
              "mean       5.843333     3.054000      3.758667     1.198667\n",
              "std        0.828066     0.433594      1.764420     0.763161\n",
              "min        4.300000     2.000000      1.000000     0.100000\n",
              "25%        5.100000     2.800000      1.600000     0.300000\n",
              "50%        5.800000     3.000000      4.350000     1.300000\n",
              "75%        6.400000     3.300000      5.100000     1.800000\n",
              "max        7.900000     4.400000      6.900000     2.500000"
            ]
          },
          "metadata": {
            "tags": []
          },
          "execution_count": 4
        }
      ]
    },
    {
      "cell_type": "markdown",
      "metadata": {
        "id": "paUxSmVx84v2"
      },
      "source": [
        "## ***Split data into train & test***"
      ]
    },
    {
      "cell_type": "code",
      "metadata": {
        "id": "Kr2GCIzO8YCX"
      },
      "source": [
        "array = dataset.values\n",
        "X = array[:,0:4]\n",
        "Y = array[:,4]\n",
        "x_train, x_test, y_train, y_test =train_test_split(X, Y, test_size=0.2, random_state=7)"
      ],
      "execution_count": null,
      "outputs": []
    },
    {
      "cell_type": "code",
      "metadata": {
        "colab": {
          "base_uri": "https://localhost:8080/"
        },
        "id": "5mdNMwN69Eu-",
        "outputId": "47fdb433-cf28-4d44-f71d-7823986b00a8"
      },
      "source": [
        "x_train"
      ],
      "execution_count": null,
      "outputs": [
        {
          "output_type": "execute_result",
          "data": {
            "text/plain": [
              "array([[6.2, 2.8, 4.8, 1.8],\n",
              "       [5.7, 2.6, 3.5, 1.0],\n",
              "       [4.6, 3.6, 1.0, 0.2],\n",
              "       [6.9, 3.1, 5.4, 2.1],\n",
              "       [6.4, 2.9, 4.3, 1.3],\n",
              "       [4.8, 3.0, 1.4, 0.3],\n",
              "       [5.5, 3.5, 1.3, 0.2],\n",
              "       [5.4, 3.9, 1.7, 0.4],\n",
              "       [5.1, 3.5, 1.4, 0.3],\n",
              "       [7.1, 3.0, 5.9, 2.1],\n",
              "       [6.7, 3.3, 5.7, 2.1],\n",
              "       [6.8, 2.8, 4.8, 1.4],\n",
              "       [6.4, 2.8, 5.6, 2.2],\n",
              "       [6.5, 3.0, 5.5, 1.8],\n",
              "       [5.7, 3.0, 4.2, 1.2],\n",
              "       [5.0, 3.3, 1.4, 0.2],\n",
              "       [6.7, 3.1, 4.4, 1.4],\n",
              "       [6.0, 2.2, 4.0, 1.0],\n",
              "       [6.4, 2.7, 5.3, 1.9],\n",
              "       [4.7, 3.2, 1.6, 0.2],\n",
              "       [4.6, 3.1, 1.5, 0.2],\n",
              "       [5.1, 3.4, 1.5, 0.2],\n",
              "       [7.7, 3.8, 6.7, 2.2],\n",
              "       [4.3, 3.0, 1.1, 0.1],\n",
              "       [6.3, 3.3, 6.0, 2.5],\n",
              "       [5.5, 2.4, 3.7, 1.0],\n",
              "       [5.0, 2.0, 3.5, 1.0],\n",
              "       [6.5, 2.8, 4.6, 1.5],\n",
              "       [5.0, 3.4, 1.6, 0.4],\n",
              "       [4.4, 2.9, 1.4, 0.2],\n",
              "       [5.0, 3.5, 1.6, 0.6],\n",
              "       [6.7, 3.1, 4.7, 1.5],\n",
              "       [7.3, 2.9, 6.3, 1.8],\n",
              "       [5.5, 2.6, 4.4, 1.2],\n",
              "       [5.2, 2.7, 3.9, 1.4],\n",
              "       [5.7, 4.4, 1.5, 0.4],\n",
              "       [7.2, 3.2, 6.0, 1.8],\n",
              "       [5.4, 3.4, 1.7, 0.2],\n",
              "       [5.8, 4.0, 1.2, 0.2],\n",
              "       [6.1, 2.6, 5.6, 1.4],\n",
              "       [5.7, 2.5, 5.0, 2.0],\n",
              "       [4.8, 3.0, 1.4, 0.1],\n",
              "       [6.5, 3.0, 5.8, 2.2],\n",
              "       [4.6, 3.2, 1.4, 0.2],\n",
              "       [6.6, 2.9, 4.6, 1.3],\n",
              "       [6.7, 3.0, 5.2, 2.3],\n",
              "       [6.1, 3.0, 4.6, 1.4],\n",
              "       [5.7, 3.8, 1.7, 0.3],\n",
              "       [7.0, 3.2, 4.7, 1.4],\n",
              "       [4.7, 3.2, 1.3, 0.2],\n",
              "       [6.5, 3.0, 5.2, 2.0],\n",
              "       [7.7, 2.6, 6.9, 2.3],\n",
              "       [4.9, 2.4, 3.3, 1.0],\n",
              "       [4.8, 3.1, 1.6, 0.2],\n",
              "       [5.5, 4.2, 1.4, 0.2],\n",
              "       [5.6, 3.0, 4.1, 1.3],\n",
              "       [6.4, 3.2, 5.3, 2.3],\n",
              "       [5.2, 3.5, 1.5, 0.2],\n",
              "       [7.9, 3.8, 6.4, 2.0],\n",
              "       [5.8, 2.8, 5.1, 2.4],\n",
              "       [5.7, 2.9, 4.2, 1.3],\n",
              "       [5.1, 3.7, 1.5, 0.4],\n",
              "       [5.1, 2.5, 3.0, 1.1],\n",
              "       [5.0, 3.4, 1.5, 0.2],\n",
              "       [7.7, 2.8, 6.7, 2.0],\n",
              "       [7.6, 3.0, 6.6, 2.1],\n",
              "       [5.0, 3.2, 1.2, 0.2],\n",
              "       [5.4, 3.7, 1.5, 0.2],\n",
              "       [6.7, 3.3, 5.7, 2.5],\n",
              "       [6.1, 2.8, 4.0, 1.3],\n",
              "       [6.3, 2.5, 5.0, 1.9],\n",
              "       [7.4, 2.8, 6.1, 1.9],\n",
              "       [5.0, 2.3, 3.3, 1.0],\n",
              "       [5.4, 3.4, 1.5, 0.4],\n",
              "       [5.4, 3.9, 1.3, 0.4],\n",
              "       [5.6, 2.8, 4.9, 2.0],\n",
              "       [4.9, 3.0, 1.4, 0.2],\n",
              "       [5.3, 3.7, 1.5, 0.2],\n",
              "       [6.0, 2.7, 5.1, 1.6],\n",
              "       [6.8, 3.2, 5.9, 2.3],\n",
              "       [6.2, 3.4, 5.4, 2.3],\n",
              "       [5.7, 2.8, 4.1, 1.3],\n",
              "       [6.3, 2.3, 4.4, 1.3],\n",
              "       [4.9, 3.1, 1.5, 0.1],\n",
              "       [6.9, 3.1, 5.1, 2.3],\n",
              "       [5.0, 3.6, 1.4, 0.2],\n",
              "       [4.4, 3.0, 1.3, 0.2],\n",
              "       [6.0, 2.9, 4.5, 1.5],\n",
              "       [6.1, 2.8, 4.7, 1.2],\n",
              "       [6.4, 2.8, 5.6, 2.1],\n",
              "       [4.9, 3.1, 1.5, 0.1],\n",
              "       [5.6, 2.9, 3.6, 1.3],\n",
              "       [5.9, 3.0, 4.2, 1.5],\n",
              "       [6.3, 2.7, 4.9, 1.8],\n",
              "       [6.8, 3.0, 5.5, 2.1],\n",
              "       [5.5, 2.3, 4.0, 1.3],\n",
              "       [6.3, 2.8, 5.1, 1.5],\n",
              "       [4.8, 3.4, 1.9, 0.2],\n",
              "       [6.3, 3.3, 4.7, 1.6],\n",
              "       [5.6, 2.5, 3.9, 1.1],\n",
              "       [5.1, 3.8, 1.9, 0.4],\n",
              "       [5.1, 3.8, 1.5, 0.3],\n",
              "       [4.6, 3.4, 1.4, 0.3],\n",
              "       [5.7, 2.8, 4.5, 1.3],\n",
              "       [6.6, 3.0, 4.4, 1.4],\n",
              "       [5.1, 3.5, 1.4, 0.2],\n",
              "       [7.7, 3.0, 6.1, 2.3],\n",
              "       [6.1, 3.0, 4.9, 1.8],\n",
              "       [6.2, 2.2, 4.5, 1.5],\n",
              "       [6.3, 3.4, 5.6, 2.4],\n",
              "       [4.4, 3.2, 1.3, 0.2],\n",
              "       [6.5, 3.2, 5.1, 2.0],\n",
              "       [5.5, 2.5, 4.0, 1.3],\n",
              "       [6.3, 2.5, 4.9, 1.5],\n",
              "       [5.1, 3.3, 1.7, 0.5],\n",
              "       [5.8, 2.7, 5.1, 1.9],\n",
              "       [5.8, 2.6, 4.0, 1.2],\n",
              "       [6.3, 2.9, 5.6, 1.8],\n",
              "       [5.8, 2.7, 4.1, 1.0],\n",
              "       [5.0, 3.0, 1.6, 0.2]], dtype=object)"
            ]
          },
          "metadata": {
            "tags": []
          },
          "execution_count": 6
        }
      ]
    },
    {
      "cell_type": "code",
      "metadata": {
        "colab": {
          "base_uri": "https://localhost:8080/"
        },
        "id": "uE9RO4N49N5z",
        "outputId": "184e10aa-6d1f-4e6b-885a-eb9cc78b5417"
      },
      "source": [
        "x_test"
      ],
      "execution_count": null,
      "outputs": [
        {
          "output_type": "execute_result",
          "data": {
            "text/plain": [
              "array([[5.9, 3.0, 5.1, 1.8],\n",
              "       [5.4, 3.0, 4.5, 1.5],\n",
              "       [5.0, 3.5, 1.3, 0.3],\n",
              "       [5.6, 3.0, 4.5, 1.5],\n",
              "       [4.9, 2.5, 4.5, 1.7],\n",
              "       [4.5, 2.3, 1.3, 0.3],\n",
              "       [6.9, 3.1, 4.9, 1.5],\n",
              "       [5.6, 2.7, 4.2, 1.3],\n",
              "       [4.8, 3.4, 1.6, 0.2],\n",
              "       [6.4, 3.2, 4.5, 1.5],\n",
              "       [6.7, 3.0, 5.0, 1.7],\n",
              "       [6.0, 3.4, 4.5, 1.6],\n",
              "       [5.2, 4.1, 1.5, 0.1],\n",
              "       [7.2, 3.6, 6.1, 2.5],\n",
              "       [5.2, 3.4, 1.4, 0.2],\n",
              "       [5.9, 3.2, 4.8, 1.8],\n",
              "       [6.7, 2.5, 5.8, 1.8],\n",
              "       [6.4, 3.1, 5.5, 1.8],\n",
              "       [5.1, 3.8, 1.6, 0.2],\n",
              "       [4.9, 3.1, 1.5, 0.1],\n",
              "       [5.8, 2.7, 3.9, 1.2],\n",
              "       [6.9, 3.2, 5.7, 2.3],\n",
              "       [6.1, 2.9, 4.7, 1.4],\n",
              "       [6.0, 2.2, 5.0, 1.5],\n",
              "       [7.2, 3.0, 5.8, 1.6],\n",
              "       [6.0, 3.0, 4.8, 1.8],\n",
              "       [6.2, 2.9, 4.3, 1.3],\n",
              "       [5.5, 2.4, 3.8, 1.1],\n",
              "       [5.8, 2.7, 5.1, 1.9],\n",
              "       [6.7, 3.1, 5.6, 2.4]], dtype=object)"
            ]
          },
          "metadata": {
            "tags": []
          },
          "execution_count": 7
        }
      ]
    },
    {
      "cell_type": "markdown",
      "metadata": {
        "id": "NVjEvacz9Z9S"
      },
      "source": [
        "## ***Train model***"
      ]
    },
    {
      "cell_type": "code",
      "metadata": {
        "colab": {
          "base_uri": "https://localhost:8080/"
        },
        "id": "OqqAXgcG9ReX",
        "outputId": "28f940fc-00a7-494d-f478-82fe4c3f20bb"
      },
      "source": [
        "model = KNeighborsClassifier()\n",
        "model.fit(x_train,y_train)"
      ],
      "execution_count": null,
      "outputs": [
        {
          "output_type": "execute_result",
          "data": {
            "text/plain": [
              "KNeighborsClassifier(algorithm='auto', leaf_size=30, metric='minkowski',\n",
              "                     metric_params=None, n_jobs=None, n_neighbors=5, p=2,\n",
              "                     weights='uniform')"
            ]
          },
          "metadata": {
            "tags": []
          },
          "execution_count": 8
        }
      ]
    },
    {
      "cell_type": "markdown",
      "metadata": {
        "id": "dXRF2vZY9xJ1"
      },
      "source": [
        "## ***Validate model for the test dataset***"
      ]
    },
    {
      "cell_type": "code",
      "metadata": {
        "id": "nxjfA3Tu9in_"
      },
      "source": [
        "predictions = model.predict(x_test)"
      ],
      "execution_count": null,
      "outputs": []
    },
    {
      "cell_type": "code",
      "metadata": {
        "colab": {
          "base_uri": "https://localhost:8080/"
        },
        "id": "Q6StnY6T93fe",
        "outputId": "939b8c49-fe4a-4031-df3f-f474acae4380"
      },
      "source": [
        "print(accuracy_score(y_test, predictions))"
      ],
      "execution_count": null,
      "outputs": [
        {
          "output_type": "stream",
          "text": [
            "0.9\n"
          ],
          "name": "stdout"
        }
      ]
    },
    {
      "cell_type": "code",
      "metadata": {
        "colab": {
          "base_uri": "https://localhost:8080/"
        },
        "id": "nxcTzmH096pK",
        "outputId": "545f616f-2681-4ba1-a28e-a538d19c6d15"
      },
      "source": [
        "model.score(x_test,y_test)"
      ],
      "execution_count": null,
      "outputs": [
        {
          "output_type": "execute_result",
          "data": {
            "text/plain": [
              "0.9"
            ]
          },
          "metadata": {
            "tags": []
          },
          "execution_count": 11
        }
      ]
    },
    {
      "cell_type": "code",
      "metadata": {
        "id": "pzv73wL7_pmS"
      },
      "source": [
        ""
      ],
      "execution_count": null,
      "outputs": []
    }
  ]
}